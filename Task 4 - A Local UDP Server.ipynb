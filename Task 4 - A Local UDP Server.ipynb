{
 "cells": [
  {
   "cell_type": "code",
   "execution_count": 6,
   "id": "9e45a012",
   "metadata": {},
   "outputs": [
    {
     "name": "stdout",
     "output_type": "stream",
     "text": [
      "The server ('127.0.0.1', 10805) replied Your data contains 22 letters and 0 numbers.\n"
     ]
    }
   ],
   "source": [
    "#send 3 messages to the client using UDP and print out responses\n",
    "#the first message should consist of only letters\n",
    "\n",
    "\n",
    "#establishing a connection to a socket for communication with IPV4 addresess uisng UDP\n",
    "import socket\n",
    "sock = socket.socket(socket.AF_INET, socket.SOCK_DGRAM)\n",
    "text = \"I believe the server works\"\n",
    "data = text.encode('ascii') #encoding all messages sent to server in ascii\n",
    "sock.sendto(data, ('127.0.0.1', 10805)) #directing to port\n",
    "\n",
    "#establishing connection for recieving message from server\n",
    "data,address = sock.recvfrom(65535)\n",
    "text = data.decode('ascii')\n",
    "print('The server ' + str(address) + ' replied ' + text)"
   ]
  },
  {
   "cell_type": "code",
   "execution_count": 1,
   "id": "2c829750",
   "metadata": {},
   "outputs": [
    {
     "name": "stdout",
     "output_type": "stream",
     "text": [
      "The server ('127.0.0.1', 10805) replied Your data contains 36 letters and 9 numbers.\n"
     ]
    }
   ],
   "source": [
    "#the second message should consist of letters and numbers\n",
    "\n",
    "#establishing a connection to a socket for communication with IPV4 addresess uisng UDP\n",
    "import socket\n",
    "sock = socket.socket(socket.AF_INET, socket.SOCK_DGRAM)\n",
    "text = \"There are multiple ports but I have used 1060 and 10805\"\n",
    "data = text.encode('ascii') #encoding all messages sent to server in ascii\n",
    "sock.sendto(data, ('127.0.0.1', 10805)) #directing to port\n",
    "\n",
    "#establishing connection for recieving message from server\n",
    "data,address = sock.recvfrom(65535)\n",
    "text = data.decode('ascii')\n",
    "print('The server ' + str(address) + ' replied ' + text)"
   ]
  },
  {
   "cell_type": "code",
   "execution_count": 2,
   "id": "621eabab",
   "metadata": {},
   "outputs": [
    {
     "name": "stdout",
     "output_type": "stream",
     "text": [
      "The server ('127.0.0.1', 10805) replied Your data contains 28 letters and 4 numbers.\n"
     ]
    }
   ],
   "source": [
    "#the third message should contain letters, numbers and punctuation\n",
    "\n",
    "#establishing a connection to a socket for communication with IPV4 addresess uisng UDP\n",
    "import socket\n",
    "sock = socket.socket(socket.AF_INET, socket.SOCK_DGRAM)\n",
    "text = \"Is the connection on port 1060 working?\"\n",
    "data = text.encode('ascii') #encoding all messages sent to server in ascii\n",
    "sock.sendto(data, ('127.0.0.1', 10805)) #directing to port\n",
    "\n",
    "#establishing connection for recieving message from server\n",
    "data,address = sock.recvfrom(65535)\n",
    "text = data.decode('ascii')\n",
    "print('The server ' + str(address) + ' replied ' + text)"
   ]
  },
  {
   "cell_type": "code",
   "execution_count": 5,
   "id": "bb939b81",
   "metadata": {},
   "outputs": [
    {
     "name": "stdout",
     "output_type": "stream",
     "text": [
      "Letters: 5 Numbers: 0\n"
     ]
    }
   ],
   "source": []
  },
  {
   "cell_type": "code",
   "execution_count": null,
   "id": "c3d4347f",
   "metadata": {},
   "outputs": [],
   "source": []
  }
 ],
 "metadata": {
  "kernelspec": {
   "display_name": "Python 3 (ipykernel)",
   "language": "python",
   "name": "python3"
  },
  "language_info": {
   "codemirror_mode": {
    "name": "ipython",
    "version": 3
   },
   "file_extension": ".py",
   "mimetype": "text/x-python",
   "name": "python",
   "nbconvert_exporter": "python",
   "pygments_lexer": "ipython3",
   "version": "3.9.12"
  }
 },
 "nbformat": 4,
 "nbformat_minor": 5
}
