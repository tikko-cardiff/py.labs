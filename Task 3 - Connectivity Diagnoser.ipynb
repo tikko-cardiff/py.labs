{
 "cells": [
  {
   "cell_type": "code",
   "execution_count": 1,
   "id": "e4bb3d8c",
   "metadata": {},
   "outputs": [],
   "source": [
    "#Connectivity diagnoser - connect to websites and produce a report on the quality\n",
    "#connect to each of the website and check for a response\n",
    "#lack of response should return non-connectivity to internet\n",
    "#if response is recieved from just one then re-attempt connection to others\n",
    "#For each failed response, there should be two additional attempts\n",
    "#if all three connections failed then \"website is offline\" should be printed\n",
    "#Based on response form others, print message for \"good or bad connection\"\n",
    "\n",
    "\n"
   ]
  },
  {
   "cell_type": "code",
   "execution_count": 51,
   "id": "af1368ec",
   "metadata": {
    "scrolled": true
   },
   "outputs": [
    {
     "name": "stdout",
     "output_type": "stream",
     "text": [
      "{'https://www.procordr.com': 1, 'https://www.instagram.com': 1, 'https://www.twitter.cm': 0}\n",
      "Website, https://www.twitter.cm is probably offline\n",
      "Computer connection is poor\n"
     ]
    }
   ],
   "source": [
    "import urllib.request\n",
    "import requests\n",
    "\n",
    "#setting the urls in a list to avoid repetition\n",
    "urls = ['https://www.procordr.com', 'https://www.instagram.com', 'https://www.twitter.cm']\n",
    "time_elapsed = [] \n",
    "#opening an empty list for time_elapsed which is ised to check to spent in connecting to all urls\n",
    "connect = dict()\n",
    "\n",
    "\n",
    "for url in urls:   \n",
    "    try:\n",
    "        urllib.request.urlopen(url)\n",
    "        connect[url] = 1\n",
    "        r = requests.get(url) #checking for time expended in checking connection in website\n",
    "        time_elapsed.append(r.elapsed.total_seconds())\n",
    "    except:\n",
    "        connect [url] = 0\n",
    "print(connect)\n",
    "\n",
    "not_connected= 0 \n",
    "#identifying all url retruning value of 0 as computer as not online\n",
    "for key, value in connect.items():\n",
    "    if value == 0:\n",
    "        not_connected += 1 \n",
    "\n",
    "if (not_connected == 3):\n",
    "    print(\"Your Computer is probably offline\")\n",
    "elif(not_connected < 3):\n",
    "    #retrying failed connections \n",
    "    for key, value in connect.items():\n",
    "        if value == 0:\n",
    "            for i in range (0,2): #retry connection twice after first failed  attempt\n",
    "                try:\n",
    "                    urllib.request.urlopen(key) \n",
    "                    connect[key]= 1\n",
    "                    r = requests.get(key)\n",
    "                    time_elapsed.append(r.elapsed.total_seconds())\n",
    "                except: #setting an exception incase the website reconnected during attempt ro reconnect\n",
    "                    connect[key]= 0        \n",
    "                if value == 1:\n",
    "                    print(\"Connection to \" + key + \" has been initialized\")\n",
    "                break \n",
    "            if value == 0:\n",
    "                print(\"Website, \" + key + \" is probably offline\") \n",
    "\n",
    "        \n",
    "s=0\n",
    "for r in time_elapsed: #to set \n",
    "    s += r #adding up all time elapsed and defining it\n",
    "\n",
    "if s < 1: #to check if all values in time elapsed defined in s is less than 1 \n",
    "    #i.e if time used to process is less than 1sec then connection is good otherwise it is poor\n",
    "    print(\"Computer has a good connection\")\n",
    "else:\n",
    "    print(\"Computer connection is poor\")\n",
    "                \n",
    "        \n"
   ]
  },
  {
   "cell_type": "code",
   "execution_count": null,
   "id": "b132333b",
   "metadata": {},
   "outputs": [],
   "source": []
  }
 ],
 "metadata": {
  "kernelspec": {
   "display_name": "Python 3 (ipykernel)",
   "language": "python",
   "name": "python3"
  },
  "language_info": {
   "codemirror_mode": {
    "name": "ipython",
    "version": 3
   },
   "file_extension": ".py",
   "mimetype": "text/x-python",
   "name": "python",
   "nbconvert_exporter": "python",
   "pygments_lexer": "ipython3",
   "version": "3.9.12"
  }
 },
 "nbformat": 4,
 "nbformat_minor": 5
}
